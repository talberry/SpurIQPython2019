{
 "cells": [
  {
   "cell_type": "markdown",
   "metadata": {},
   "source": [
    "# Function Exercise"
   ]
  },
  {
   "cell_type": "code",
   "execution_count": 2,
   "metadata": {},
   "outputs": [
    {
     "name": "stdout",
     "output_type": "stream",
     "text": [
      "25\n",
      "5\n",
      "50\n"
     ]
    }
   ],
   "source": [
    "def sumList(myList):\n",
    "    listSum = 0\n",
    "    for x in myList:\n",
    "        listSum += x\n",
    "    return listSum\n",
    "\n",
    "mylist = [5,5,5,5,5]\n",
    "print(sumList(mylist))\n",
    "\n",
    "mylist1 = [1,1,1,1,1]\n",
    "print(sumList(mylist1))\n",
    "\n",
    "\n",
    "mylist2 = [10,10,10,10,10]\n",
    "print(sumList(mylist2))"
   ]
  },
  {
   "cell_type": "code",
   "execution_count": 3,
   "metadata": {},
   "outputs": [
    {
     "name": "stdout",
     "output_type": "stream",
     "text": [
      "[ 3  6  9 12 15]\n",
      "[1. 2. 3. 4. 5.]\n"
     ]
    }
   ],
   "source": [
    "import numpy as np\n",
    "y = np.array([3,6,9,12,15])\n",
    "print(y)\n",
    "y = y/3\n",
    "print(y)"
   ]
  },
  {
   "cell_type": "code",
   "execution_count": null,
   "metadata": {},
   "outputs": [
    {
     "name": "stdout",
     "output_type": "stream",
     "text": [
      "I am gay\n",
      "Correct!!!\n",
      "You have 1 points!\n"
     ]
    }
   ],
   "source": [
    "x = input(\"I am \")\n",
    "p = 0\n",
    "\n",
    "if x == \"gay\":\n",
    "    print(\"Correct!!!\")\n",
    "    p += 1\n",
    "    print(\"You have \" + str(p) + \" points!\")\n",
    "else:\n",
    "    print(\"Incorrect!!!\")\n",
    "    print(\"The correct answer was 'gay'\")\n",
    "    print(\"You have \" + str(p) + \" points!\")\n",
    "    \n",
    "\n",
    "x = input(\"You are a \")\n",
    "if x == \"virgin\":\n",
    "    print(\"Correct!!!\")\n",
    "    p += 1\n",
    "    print(\"You have \" + str(p) + \" points!\")\n",
    "else:\n",
    "    print(\"Incorrect!!!\")\n",
    "    print(\"The correct answer was 'virgin'\")\n",
    "    print(\"You have \" + str(p) + \" points!\")\n",
    "    \n",
    "\n",
    "x = input(\"Black people have big \")\n",
    "if x == \"peepees\":\n",
    "    print(\"Correct!!!\")\n",
    "    p += 1\n",
    "    print(\"You have \" + str(p) + \"points!\")\n",
    "else:\n",
    "    print(\"Incorrect!!!\")\n",
    "    print(\"The correct answer was 'peepees'\")\n",
    "    print(\"You have \" + str(p) + \" points!\")      \n",
    "    \n",
    "x = input(\"I need to \")\n",
    "if x == \"cum\":\n",
    "    print(\"Correct!!!\")\n",
    "    p += 1\n",
    "    print(\"You have \" + str(p) + \" points\")\n",
    "else:\n",
    "    print(\"Incorrect!!!\")\n",
    "    print(\"The correct answer was 'cum'\")\n",
    "    print(\"You have \" + str(p) + \" points!\")"
   ]
  },
  {
   "cell_type": "code",
   "execution_count": null,
   "metadata": {},
   "outputs": [],
   "source": [
    "gays = int(input(\"How many gay people are in the room?\"))\n",
    "if gays > 20:\n",
    "    print(\"That's a gaypocalypse!\")\n",
    "else:\n",
    "    print(\"That's too many gay people!\")"
   ]
  }
 ],
 "metadata": {
  "kernelspec": {
   "display_name": "Python 3",
   "language": "python",
   "name": "python3"
  }
 },
 "nbformat": 4,
 "nbformat_minor": 2
}
