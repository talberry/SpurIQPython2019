{
 "cells": [
  {
   "cell_type": "markdown",
   "metadata": {},
   "source": [
    "# Function Exercise"
   ]
  },
  {
   "cell_type": "code",
   "execution_count": 38,
   "metadata": {},
   "outputs": [
    {
     "name": "stdout",
     "output_type": "stream",
     "text": [
      "25\n",
      "5\n",
      "50\n"
     ]
    }
   ],
   "source": [
    "def sumList(myList):\n",
    "    listSum = 0\n",
    "    for x in myList:\n",
    "        listSum += x\n",
    "    return listSum\n",
    "\n",
    "mylist = [5,5,5,5,5]\n",
    "print(sumList(mylist))\n",
    "\n",
    "mylist1 = [1,1,1,1,1]\n",
    "print(sumList(mylist1))\n",
    "\n",
    "\n",
    "mylist2 = [10,10,10,10,10]\n",
    "print(sumList(mylist2))"
   ]
  },
  {
   "cell_type": "code",
   "execution_count": 66,
   "metadata": {},
   "outputs": [
    {
     "name": "stdout",
     "output_type": "stream",
     "text": [
      "[ 3  6  9 12 15]\n",
      "[1. 2. 3. 4. 5.]\n"
     ]
    }
   ],
   "source": [
    "import numpy as np\n",
    "y = np.array([3,6,9,12,15])\n",
    "print(y)\n",
    "y = y/3\n",
    "print(y)"
   ]
  }
 ],
 "metadata": {
  "kernelspec": {
   "display_name": "Python 3",
   "language": "python",
   "name": "python3"
  },
  "language_info": {
   "codemirror_mode": {
    "name": "ipython",
    "version": 3
   },
   "file_extension": ".py",
   "mimetype": "text/x-python",
   "name": "python",
   "nbconvert_exporter": "python",
   "pygments_lexer": "ipython3",
   "version": "3.7.3"
  }
 },
 "nbformat": 4,
 "nbformat_minor": 2
}
